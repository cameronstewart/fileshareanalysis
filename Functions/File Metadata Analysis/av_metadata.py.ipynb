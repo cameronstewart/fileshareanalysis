{
 "cells": [
  {
   "cell_type": "markdown",
   "metadata": {
    "toc": true
   },
   "source": [
    "<h1>Table of Contents<span class=\"tocSkip\"></span></h1>\n",
    "<div class=\"toc\"><ul class=\"toc-item\"></ul></div>"
   ]
  },
  {
   "cell_type": "code",
   "execution_count": 1,
   "metadata": {},
   "outputs": [
    {
     "name": "stderr",
     "output_type": "stream",
     "text": [
      "usage: ipykernel_launcher.py [-h] AV_FILE\n",
      "ipykernel_launcher.py: error: unrecognized arguments: -f\n"
     ]
    },
    {
     "ename": "SystemExit",
     "evalue": "2",
     "output_type": "error",
     "traceback": [
      "An exception has occurred, use %tb to see the full traceback.\n",
      "\u001b[1;31mSystemExit\u001b[0m\u001b[1;31m:\u001b[0m 2\n"
     ]
    },
    {
     "name": "stderr",
     "output_type": "stream",
     "text": [
      "C:\\Users\\stewartc\\AppData\\Local\\Continuum\\anaconda3\\lib\\site-packages\\IPython\\core\\interactiveshell.py:2918: UserWarning: To exit: use 'exit', 'quit', or Ctrl-D.\n",
      "  warn(\"To exit: use 'exit', 'quit', or Ctrl-D.\", stacklevel=1)\n"
     ]
    }
   ],
   "source": [
    "from __future__ import print_function\n",
    "import argparse\n",
    "import json\n",
    "import mutagen\n",
    "\n",
    "\"\"\"\n",
    "MIT License\n",
    "Copyright (c) 2017 Chapin Bryce, Preston Miller\n",
    "Please share comments and questions at:\n",
    "    https://github.com/PythonForensics/PythonForensicsCookbook\n",
    "    or email pyforcookbook@gmail.com\n",
    "Permission is hereby granted, free of charge, to any person obtaining a copy\n",
    "of this software and associated documentation files (the \"Software\"), to deal\n",
    "in the Software without restriction, including without limitation the rights\n",
    "to use, copy, modify, merge, publish, distribute, sublicense, and/or sell\n",
    "copies of the Software, and to permit persons to whom the Software is\n",
    "furnished to do so, subject to the following conditions:\n",
    "The above copyright notice and this permission notice shall be included in all\n",
    "copies or substantial portions of the Software.\n",
    "THE SOFTWARE IS PROVIDED \"AS IS\", WITHOUT WARRANTY OF ANY KIND, EXPRESS OR\n",
    "IMPLIED, INCLUDING BUT NOT LIMITED TO THE WARRANTIES OF MERCHANTABILITY,\n",
    "FITNESS FOR A PARTICULAR PURPOSE AND NONINFRINGEMENT. IN NO EVENT SHALL THE\n",
    "AUTHORS OR COPYRIGHT HOLDERS BE LIABLE FOR ANY CLAIM, DAMAGES OR OTHER\n",
    "LIABILITY, WHETHER IN AN ACTION OF CONTRACT, TORT OR OTHERWISE, ARISING FROM,\n",
    "OUT OF OR IN CONNECTION WITH THE SOFTWARE OR THE USE OR OTHER DEALINGS IN THE\n",
    "SOFTWARE.\n",
    "\"\"\"\n",
    "\n",
    "__authors__ = [\"Chapin Bryce\", \"Preston Miller\"]\n",
    "__date__ = 20170815\n",
    "__description__ = \"Utility to extract metadata from A/V Filess\"\n",
    "\n",
    "\n",
    "def handle_id3(id3_file):\n",
    "    # Definitions from http://id3.org/id3v2.4.0-frames\n",
    "    id3_frames = {\n",
    "        'TIT2': 'Title', 'TPE1': 'Artist', 'TALB': 'Album',\n",
    "        'TXXX': 'Custom', 'TCON': 'Content Type', 'TDRL': 'Date released',\n",
    "        'COMM': 'Comments', 'TDRC': 'Recording Date'}\n",
    "    print(\"{:15} | {:15} | {:38} | {}\".format(\"Frame\", \"Description\",\n",
    "                                              \"Text\", \"Value\"))\n",
    "    print(\"-\" * 85)\n",
    "\n",
    "    for frames in id3_file.tags.values():\n",
    "        frame_name = id3_frames.get(frames.FrameID, frames.FrameID)\n",
    "        desc = getattr(frames, 'desc', \"N/A\")\n",
    "        text = getattr(frames, 'text', [\"N/A\"])[0]\n",
    "        value = getattr(frames, 'value', \"N/A\")\n",
    "        if \"date\" in frame_name.lower():\n",
    "            text = str(text)\n",
    "\n",
    "        print(\"{:15} | {:15} | {:38} | {}\".format(\n",
    "            frame_name, desc, text, value))\n",
    "\n",
    "\n",
    "def handle_mp4(mp4_file):\n",
    "    # Definitions from\n",
    "    # http://www.sno.phy.queensu.ca/~phil/exiftool/TagNames/QuickTime.html\n",
    "    cp_sym = u\"\\u00A9\"\n",
    "    qt_tag = {\n",
    "        cp_sym + 'nam': 'Title', cp_sym + 'art': 'Artist',\n",
    "        cp_sym + 'alb': 'Album', cp_sym + 'gen': 'Genre',\n",
    "        'cpil': 'Compilation', cp_sym + 'day': 'Creation Date',\n",
    "        'cnID': 'Apple Store Content ID', 'atID': 'Album Title ID',\n",
    "        'plID': 'Playlist ID', 'geID': 'Genre ID', 'pcst': 'Podcast',\n",
    "        'purl': 'Podcast URL', 'egid': 'Episode Global ID',\n",
    "        'cmID': 'Camera ID', 'sfID': 'Apple Store Country',\n",
    "        'desc': 'Description', 'ldes': 'Long Description'}\n",
    "    # Definitions from\n",
    "    # http://www.sno.phy.queensu.ca/~phil/exiftool/TagNames/QuickTime.html#GenreID\n",
    "    genre_ids = json.load(open('apple_genres.json'))\n",
    "\n",
    "    print(\"{:22} | {}\".format('Name', 'Value'))\n",
    "    print(\"-\" * 40)\n",
    "    for name, value in mp4_file.tags.items():\n",
    "        tag_name = qt_tag.get(name, name)\n",
    "        if isinstance(value, list):\n",
    "            value = \"; \".join([str(x) for x in value])\n",
    "        if name == 'geID':\n",
    "            value = \"{}: {}\".format(\n",
    "                value, genre_ids[str(value)].replace(\"|\", \" - \"))\n",
    "        print(\"{:22} | {}\".format(tag_name, value))\n",
    "\n",
    "\n",
    "if __name__ == '__main__':\n",
    "    parser = argparse.ArgumentParser(\n",
    "        description=__description__,\n",
    "        epilog=\"Developed by {} on {}\".format(\n",
    "            \", \".join(__authors__), __date__)\n",
    "    )\n",
    "    parser.add_argument(\"AV_FILE\", help=\"File to extract metadata from\")\n",
    "    args = parser.parse_args()\n",
    "    av_file = mutagen.File(args.AV_FILE)\n",
    "\n",
    "    file_ext = args.AV_FILE.rsplit('.', 1)[-1]\n",
    "    if file_ext.lower() == 'mp3':\n",
    "        handle_id3(av_file)\n",
    "    elif file_ext.lower() == 'mp4':\n",
    "        handle_mp4(av_file)"
   ]
  },
  {
   "cell_type": "code",
   "execution_count": null,
   "metadata": {},
   "outputs": [],
   "source": []
  }
 ],
 "metadata": {
  "kernelspec": {
   "display_name": "Python 3",
   "language": "python",
   "name": "python3"
  },
  "language_info": {
   "codemirror_mode": {
    "name": "ipython",
    "version": 3
   },
   "file_extension": ".py",
   "mimetype": "text/x-python",
   "name": "python",
   "nbconvert_exporter": "python",
   "pygments_lexer": "ipython3",
   "version": "3.7.3"
  },
  "toc": {
   "base_numbering": 1,
   "nav_menu": {},
   "number_sections": true,
   "sideBar": true,
   "skip_h1_title": false,
   "title_cell": "Table of Contents",
   "title_sidebar": "Contents",
   "toc_cell": true,
   "toc_position": {},
   "toc_section_display": true,
   "toc_window_display": true
  }
 },
 "nbformat": 4,
 "nbformat_minor": 2
}
