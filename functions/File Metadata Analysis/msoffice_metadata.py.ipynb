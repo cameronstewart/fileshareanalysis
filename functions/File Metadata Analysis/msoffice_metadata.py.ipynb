{
 "cells": [
  {
   "cell_type": "markdown",
   "metadata": {
    "toc": true
   },
   "source": [
    "<h1>Table of Contents<span class=\"tocSkip\"></span></h1>\n",
    "<div class=\"toc\"><ul class=\"toc-item\"></ul></div>"
   ]
  },
  {
   "cell_type": "code",
   "execution_count": 6,
   "metadata": {},
   "outputs": [
    {
     "name": "stdout",
     "output_type": "stream",
     "text": [
      "Requirement already up-to-date: pip in c:\\users\\stewartc\\appdata\\local\\continuum\\anaconda3\\lib\\site-packages (10.0.1)\n"
     ]
    },
    {
     "name": "stderr",
     "output_type": "stream",
     "text": [
      "notebook 5.4.0 requires ipykernel, which is not installed.\n",
      "jupyter 1.0.0 requires ipykernel, which is not installed.\n",
      "jupyter-console 5.2.0 requires ipykernel, which is not installed.\n",
      "ipywidgets 7.1.1 requires ipykernel>=4.5.1, which is not installed.\n"
     ]
    },
    {
     "name": "stdout",
     "output_type": "stream",
     "text": [
      "Solving environment: ...working... failed\n"
     ]
    },
    {
     "name": "stderr",
     "output_type": "stream",
     "text": [
      "\n",
      "PackagesNotFoundError: The following packages are not available from current channels:\n",
      "\n",
      "  - argumentparser\n",
      "\n",
      "Current channels:\n",
      "\n",
      "  - https://repo.continuum.io/pkgs/main/win-64\n",
      "  - https://repo.continuum.io/pkgs/main/noarch\n",
      "  - https://repo.continuum.io/pkgs/free/win-64\n",
      "  - https://repo.continuum.io/pkgs/free/noarch\n",
      "  - https://repo.continuum.io/pkgs/r/win-64\n",
      "  - https://repo.continuum.io/pkgs/r/noarch\n",
      "  - https://repo.continuum.io/pkgs/pro/win-64\n",
      "  - https://repo.continuum.io/pkgs/pro/noarch\n",
      "  - https://repo.continuum.io/pkgs/msys2/win-64\n",
      "  - https://repo.continuum.io/pkgs/msys2/noarch\n",
      "\n",
      "\n"
     ]
    },
    {
     "name": "stdout",
     "output_type": "stream",
     "text": [
      "Solving environment: ...working... failed\n"
     ]
    },
    {
     "name": "stderr",
     "output_type": "stream",
     "text": [
      "\n",
      "PackagesNotFoundError: The following packages are not available from current channels:\n",
      "\n",
      "  - elementtree\n",
      "\n",
      "Current channels:\n",
      "\n",
      "  - https://repo.continuum.io/pkgs/main/win-64\n",
      "  - https://repo.continuum.io/pkgs/main/noarch\n",
      "  - https://repo.continuum.io/pkgs/free/win-64\n",
      "  - https://repo.continuum.io/pkgs/free/noarch\n",
      "  - https://repo.continuum.io/pkgs/r/win-64\n",
      "  - https://repo.continuum.io/pkgs/r/noarch\n",
      "  - https://repo.continuum.io/pkgs/pro/win-64\n",
      "  - https://repo.continuum.io/pkgs/pro/noarch\n",
      "  - https://repo.continuum.io/pkgs/msys2/win-64\n",
      "  - https://repo.continuum.io/pkgs/msys2/noarch\n",
      "\n",
      "\n"
     ]
    }
   ],
   "source": [
    "!python -m pip install --upgrade pip\n",
    "!conda install ArgumentParser\n",
    "!conda install ElementTree"
   ]
  },
  {
   "cell_type": "code",
   "execution_count": 7,
   "metadata": {},
   "outputs": [
    {
     "ename": "NameError",
     "evalue": "name 'argparse' is not defined",
     "output_type": "error",
     "traceback": [
      "\u001b[1;31m---------------------------------------------------------------------------\u001b[0m",
      "\u001b[1;31mNameError\u001b[0m                                 Traceback (most recent call last)",
      "\u001b[1;32m<ipython-input-7-9cb331fa248e>\u001b[0m in \u001b[0;36m<module>\u001b[1;34m()\u001b[0m\n\u001b[0;32m     32\u001b[0m \u001b[0m__description__\u001b[0m \u001b[1;33m=\u001b[0m \u001b[1;34m\"Read metadta from Office files\"\u001b[0m\u001b[1;33m\u001b[0m\u001b[0m\n\u001b[0;32m     33\u001b[0m \u001b[1;33m\u001b[0m\u001b[0m\n\u001b[1;32m---> 34\u001b[1;33m parser = argparse.ArgumentParser(\n\u001b[0m\u001b[0;32m     35\u001b[0m     \u001b[0mdescription\u001b[0m\u001b[1;33m=\u001b[0m\u001b[0m__description__\u001b[0m\u001b[1;33m,\u001b[0m\u001b[1;33m\u001b[0m\u001b[0m\n\u001b[0;32m     36\u001b[0m     \u001b[0mepilog\u001b[0m\u001b[1;33m=\u001b[0m\u001b[1;34m\"Developed by {} on {}\"\u001b[0m\u001b[1;33m.\u001b[0m\u001b[0mformat\u001b[0m\u001b[1;33m(\u001b[0m\u001b[1;34m\", \"\u001b[0m\u001b[1;33m.\u001b[0m\u001b[0mjoin\u001b[0m\u001b[1;33m(\u001b[0m\u001b[0m__authors__\u001b[0m\u001b[1;33m)\u001b[0m\u001b[1;33m,\u001b[0m \u001b[0m__date__\u001b[0m\u001b[1;33m)\u001b[0m\u001b[1;33m\u001b[0m\u001b[0m\n",
      "\u001b[1;31mNameError\u001b[0m: name 'argparse' is not defined"
     ]
    }
   ],
   "source": [
    "from __future__ import print_function\n",
    "from argparse import ArgumentParser\n",
    "from datetime import datetime as dt\n",
    "from xml.etree import ElementTree as etree\n",
    "import zipfile\n",
    "\n",
    "\"\"\"\n",
    "MIT License\n",
    "Copyright (c) 2017 Chapin Bryce, Preston Miller\n",
    "Please share comments and questions at:\n",
    "    https://github.com/PythonForensics/PythonForensicsCookbook\n",
    "    or email pyforcookbook@gmail.com\n",
    "Permission is hereby granted, free of charge, to any person obtaining a copy\n",
    "of this software and associated documentation files (the \"Software\"), to deal\n",
    "in the Software without restriction, including without limitation the rights\n",
    "to use, copy, modify, merge, publish, distribute, sublicense, and/or sell\n",
    "copies of the Software, and to permit persons to whom the Software is\n",
    "furnished to do so, subject to the following conditions:\n",
    "The above copyright notice and this permission notice shall be included in all\n",
    "copies or substantial portions of the Software.\n",
    "THE SOFTWARE IS PROVIDED \"AS IS\", WITHOUT WARRANTY OF ANY KIND, EXPRESS OR\n",
    "IMPLIED, INCLUDING BUT NOT LIMITED TO THE WARRANTIES OF MERCHANTABILITY,\n",
    "FITNESS FOR A PARTICULAR PURPOSE AND NONINFRINGEMENT. IN NO EVENT SHALL THE\n",
    "AUTHORS OR COPYRIGHT HOLDERS BE LIABLE FOR ANY CLAIM, DAMAGES OR OTHER\n",
    "LIABILITY, WHETHER IN AN ACTION OF CONTRACT, TORT OR OTHERWISE, ARISING FROM,\n",
    "OUT OF OR IN CONNECTION WITH THE SOFTWARE OR THE USE OR OTHER DEALINGS IN THE\n",
    "SOFTWARE.\n",
    "\"\"\"\n",
    "\n",
    "__authors__ = [\"Chapin Bryce\", \"Preston Miller\"]\n",
    "__date__ = 20170815\n",
    "__description__ = \"Read metadta from Office files\"\n",
    "\n",
    "parser = argparse.ArgumentParser(\n",
    "    description=__description__,\n",
    "    epilog=\"Developed by {} on {}\".format(\", \".join(__authors__), __date__)\n",
    ")\n",
    "parser.add_argument(\"Office_File\", help=\"Path to office file to read\")\n",
    "args = parser.parse_args()\n",
    "\n",
    "# Check if input file is a zipfile\n",
    "zipfile.is_zipfile(args.Office_File)\n",
    "\n",
    "# Open the file (MS Office 2007 or later)\n",
    "zfile = zipfile.ZipFile(args.Office_File)\n",
    "\n",
    "# Extract key elements for processing\n",
    "core_xml = etree.fromstring(zfile.read('docProps/core.xml'))\n",
    "app_xml = etree.fromstring(zfile.read('docProps/app.xml'))\n",
    "\n",
    "# Core.xml tag mapping\n",
    "core_mapping = {\n",
    "    'title': 'Title',\n",
    "    'subject': 'Subject',\n",
    "    'creator': 'Author(s)',\n",
    "    'keywords': 'Keywords',\n",
    "    'description': 'Description',\n",
    "    'lastModifiedBy': 'Last Modified By',\n",
    "    'modified': 'Modified Date',\n",
    "    'created': 'Created Date',\n",
    "    'category': 'Category',\n",
    "    'contentStatus': 'Status',\n",
    "    'revision': 'Revision'\n",
    "}\n",
    "\n",
    "for element in core_xml.getchildren():\n",
    "    for key, title in core_mapping.items():\n",
    "        if key in element.tag:\n",
    "            if 'date' in title.lower():\n",
    "                text = dt.strptime(element.text, \"%Y-%m-%dT%H:%M:%SZ\")\n",
    "            else:\n",
    "                text = element.text\n",
    "            print(\"{}: {}\".format(title, text))\n",
    "\n",
    "app_mapping = {\n",
    "    'TotalTime': 'Edit Time (minutes)',\n",
    "    'Pages': 'Page Count',\n",
    "    'Words': 'Word Count',\n",
    "    'Characters': 'Character Count',\n",
    "    'Lines': 'Line Count',\n",
    "    'Paragraphs': 'Paragraph Count',\n",
    "    'Company': 'Company',\n",
    "    'HyperlinkBase': 'Hyperlink Base',\n",
    "    'Slides': 'Slide count',\n",
    "    'Notes': 'Note Count',\n",
    "    'HiddenSlides': 'Hidden Slide Count',\n",
    "}\n",
    "for element in app_xml.getchildren():\n",
    "    for key, title in app_mapping.items():\n",
    "        if key in element.tag:\n",
    "            if 'date' in title.lower():\n",
    "                text = dt.strptime(element.text, \"%Y-%m-%dT%H:%M:%SZ\")\n",
    "            else:\n",
    "                text = element.text\n",
    "            print(\"{}: {}\".format(title, text))"
   ]
  },
  {
   "cell_type": "code",
   "execution_count": null,
   "metadata": {},
   "outputs": [],
   "source": [
    "!python msoffice_metadata.py ~/"
   ]
  }
 ],
 "metadata": {
  "kernelspec": {
   "display_name": "Python 3",
   "language": "python",
   "name": "python3"
  },
  "language_info": {
   "codemirror_mode": {
    "name": "ipython",
    "version": 3
   },
   "file_extension": ".py",
   "mimetype": "text/x-python",
   "name": "python",
   "nbconvert_exporter": "python",
   "pygments_lexer": "ipython3",
   "version": "3.7.3"
  },
  "toc": {
   "base_numbering": 1,
   "nav_menu": {},
   "number_sections": true,
   "sideBar": true,
   "skip_h1_title": false,
   "title_cell": "Table of Contents",
   "title_sidebar": "Contents",
   "toc_cell": true,
   "toc_position": {},
   "toc_section_display": true,
   "toc_window_display": true
  }
 },
 "nbformat": 4,
 "nbformat_minor": 2
}
