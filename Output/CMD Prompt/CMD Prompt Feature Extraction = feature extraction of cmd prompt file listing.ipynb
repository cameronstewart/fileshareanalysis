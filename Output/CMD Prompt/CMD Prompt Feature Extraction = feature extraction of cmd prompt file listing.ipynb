{
 "cells": [
  {
   "cell_type": "markdown",
   "metadata": {
    "toc": true
   },
   "source": [
    "<h1>Table of Contents<span class=\"tocSkip\"></span></h1>\n",
    "<div class=\"toc\"><ul class=\"toc-item\"></ul></div>"
   ]
  },
  {
   "cell_type": "code",
   "execution_count": 66,
   "metadata": {},
   "outputs": [],
   "source": [
    "?read_csv\n"
   ]
  },
  {
   "cell_type": "code",
   "execution_count": 67,
   "metadata": {},
   "outputs": [],
   "source": [
    "import pandas as pd"
   ]
  },
  {
   "cell_type": "code",
   "execution_count": 68,
   "metadata": {},
   "outputs": [
    {
     "name": "stderr",
     "output_type": "stream",
     "text": [
      "b'Skipping line 1877: expected 1 fields, saw 2\\nSkipping line 1880: expected 1 fields, saw 2\\nSkipping line 1882: expected 1 fields, saw 2\\nSkipping line 1883: expected 1 fields, saw 2\\nSkipping line 1884: expected 1 fields, saw 2\\nSkipping line 1888: expected 1 fields, saw 2\\nSkipping line 1905: expected 1 fields, saw 2\\nSkipping line 1906: expected 1 fields, saw 2\\nSkipping line 1907: expected 1 fields, saw 2\\nSkipping line 1909: expected 1 fields, saw 2\\nSkipping line 1910: expected 1 fields, saw 2\\nSkipping line 1912: expected 1 fields, saw 2\\nSkipping line 1913: expected 1 fields, saw 2\\nSkipping line 1914: expected 1 fields, saw 2\\nSkipping line 1917: expected 1 fields, saw 2\\nSkipping line 1919: expected 1 fields, saw 2\\nSkipping line 1920: expected 1 fields, saw 2\\nSkipping line 1921: expected 1 fields, saw 2\\nSkipping line 1923: expected 1 fields, saw 2\\nSkipping line 1924: expected 1 fields, saw 2\\nSkipping line 1925: expected 1 fields, saw 2\\nSkipping line 2183: expected 1 fields, saw 2\\nSkipping line 2184: expected 1 fields, saw 2\\nSkipping line 2764: expected 1 fields, saw 2\\nSkipping line 2925: expected 1 fields, saw 3\\nSkipping line 2931: expected 1 fields, saw 3\\n'\n"
     ]
    }
   ],
   "source": [
    "df = pd.read_csv(r\"C:\\Users\\stewartc\\NSWGOV\\OneDrive - NSWGOV\\DataAnalysis\\filesbare.csv\", error_bad_lines=False, header=None)\n",
    "df.columns = [\"Path\"]"
   ]
  },
  {
   "cell_type": "code",
   "execution_count": 69,
   "metadata": {},
   "outputs": [
    {
     "data": {
      "text/html": [
       "<div>\n",
       "<style scoped>\n",
       "    .dataframe tbody tr th:only-of-type {\n",
       "        vertical-align: middle;\n",
       "    }\n",
       "\n",
       "    .dataframe tbody tr th {\n",
       "        vertical-align: top;\n",
       "    }\n",
       "\n",
       "    .dataframe thead th {\n",
       "        text-align: right;\n",
       "    }\n",
       "</style>\n",
       "<table border=\"1\" class=\"dataframe\">\n",
       "  <thead>\n",
       "    <tr style=\"text-align: right;\">\n",
       "      <th></th>\n",
       "      <th>Path</th>\n",
       "    </tr>\n",
       "  </thead>\n",
       "  <tbody>\n",
       "    <tr>\n",
       "      <th>0</th>\n",
       "      <td>G:\\IS\\IS - Shortcut.lnk</td>\n",
       "    </tr>\n",
       "    <tr>\n",
       "      <th>1</th>\n",
       "      <td>G:\\IS\\Plan_Services</td>\n",
       "    </tr>\n",
       "    <tr>\n",
       "      <th>2</th>\n",
       "      <td>G:\\IS\\Records - Shortcut.lnk</td>\n",
       "    </tr>\n",
       "    <tr>\n",
       "      <th>3</th>\n",
       "      <td>G:\\IS\\Records</td>\n",
       "    </tr>\n",
       "    <tr>\n",
       "      <th>4</th>\n",
       "      <td>G:\\IS\\(C) SYSTEM - Shortcut.lnk</td>\n",
       "    </tr>\n",
       "  </tbody>\n",
       "</table>\n",
       "</div>"
      ],
      "text/plain": [
       "                              Path\n",
       "0          G:\\IS\\IS - Shortcut.lnk\n",
       "1              G:\\IS\\Plan_Services\n",
       "2     G:\\IS\\Records - Shortcut.lnk\n",
       "3                    G:\\IS\\Records\n",
       "4  G:\\IS\\(C) SYSTEM - Shortcut.lnk"
      ]
     },
     "execution_count": 69,
     "metadata": {},
     "output_type": "execute_result"
    }
   ],
   "source": [
    "df.head()\n"
   ]
  },
  {
   "cell_type": "code",
   "execution_count": 70,
   "metadata": {},
   "outputs": [
    {
     "data": {
      "text/plain": [
       "(7243, 1)"
      ]
     },
     "execution_count": 70,
     "metadata": {},
     "output_type": "execute_result"
    }
   ],
   "source": [
    "df.shape"
   ]
  },
  {
   "cell_type": "code",
   "execution_count": 71,
   "metadata": {},
   "outputs": [],
   "source": [
    "df['Path_Length'] = df['Path'].str.len()"
   ]
  },
  {
   "cell_type": "markdown",
   "metadata": {},
   "source": [
    "def path_len\n",
    "for row in rows:\n",
    "    len(df.Path)"
   ]
  },
  {
   "cell_type": "code",
   "execution_count": 72,
   "metadata": {},
   "outputs": [],
   "source": [
    "df['depth'] = df['Path'].str.count(r'\\\\')"
   ]
  },
  {
   "cell_type": "code",
   "execution_count": 74,
   "metadata": {},
   "outputs": [],
   "source": [
    "#df['base_name_calc'] = s.rsplit('-')[1]"
   ]
  },
  {
   "cell_type": "code",
   "execution_count": 75,
   "metadata": {},
   "outputs": [],
   "source": [
    "f = lambda x: len(x[\"Path\"].split(r\".\")) -1"
   ]
  },
  {
   "cell_type": "code",
   "execution_count": 76,
   "metadata": {},
   "outputs": [
    {
     "data": {
      "text/plain": [
       "<function __main__.<lambda>>"
      ]
     },
     "execution_count": 76,
     "metadata": {},
     "output_type": "execute_result"
    }
   ],
   "source": [
    "f"
   ]
  },
  {
   "cell_type": "code",
   "execution_count": 77,
   "metadata": {},
   "outputs": [],
   "source": [
    "df['probable_file'] = df.apply(f, axis=1)"
   ]
  },
  {
   "cell_type": "code",
   "execution_count": 78,
   "metadata": {},
   "outputs": [
    {
     "data": {
      "text/html": [
       "<div>\n",
       "<style scoped>\n",
       "    .dataframe tbody tr th:only-of-type {\n",
       "        vertical-align: middle;\n",
       "    }\n",
       "\n",
       "    .dataframe tbody tr th {\n",
       "        vertical-align: top;\n",
       "    }\n",
       "\n",
       "    .dataframe thead th {\n",
       "        text-align: right;\n",
       "    }\n",
       "</style>\n",
       "<table border=\"1\" class=\"dataframe\">\n",
       "  <thead>\n",
       "    <tr style=\"text-align: right;\">\n",
       "      <th></th>\n",
       "      <th>Path</th>\n",
       "      <th>Path_Length</th>\n",
       "      <th>depth</th>\n",
       "      <th>probable_file</th>\n",
       "    </tr>\n",
       "  </thead>\n",
       "  <tbody>\n",
       "    <tr>\n",
       "      <th>0</th>\n",
       "      <td>G:\\IS\\IS - Shortcut.lnk</td>\n",
       "      <td>23</td>\n",
       "      <td>2</td>\n",
       "      <td>1</td>\n",
       "    </tr>\n",
       "    <tr>\n",
       "      <th>1</th>\n",
       "      <td>G:\\IS\\Plan_Services</td>\n",
       "      <td>19</td>\n",
       "      <td>2</td>\n",
       "      <td>0</td>\n",
       "    </tr>\n",
       "    <tr>\n",
       "      <th>2</th>\n",
       "      <td>G:\\IS\\Records - Shortcut.lnk</td>\n",
       "      <td>28</td>\n",
       "      <td>2</td>\n",
       "      <td>1</td>\n",
       "    </tr>\n",
       "    <tr>\n",
       "      <th>3</th>\n",
       "      <td>G:\\IS\\Records</td>\n",
       "      <td>13</td>\n",
       "      <td>2</td>\n",
       "      <td>0</td>\n",
       "    </tr>\n",
       "    <tr>\n",
       "      <th>4</th>\n",
       "      <td>G:\\IS\\(C) SYSTEM - Shortcut.lnk</td>\n",
       "      <td>31</td>\n",
       "      <td>2</td>\n",
       "      <td>1</td>\n",
       "    </tr>\n",
       "  </tbody>\n",
       "</table>\n",
       "</div>"
      ],
      "text/plain": [
       "                              Path  Path_Length  depth  probable_file\n",
       "0          G:\\IS\\IS - Shortcut.lnk           23      2              1\n",
       "1              G:\\IS\\Plan_Services           19      2              0\n",
       "2     G:\\IS\\Records - Shortcut.lnk           28      2              1\n",
       "3                    G:\\IS\\Records           13      2              0\n",
       "4  G:\\IS\\(C) SYSTEM - Shortcut.lnk           31      2              1"
      ]
     },
     "execution_count": 78,
     "metadata": {},
     "output_type": "execute_result"
    }
   ],
   "source": [
    "df.head()"
   ]
  },
  {
   "cell_type": "code",
   "execution_count": 79,
   "metadata": {},
   "outputs": [],
   "source": [
    "import os"
   ]
  },
  {
   "cell_type": "markdown",
   "metadata": {},
   "source": [
    "fullpath = '/usr/lib64/mpich2/lib/libmpichcxx.so1'\n",
    "\n",
    "path, filename = fullpath.rsplit('/', 1)\n",
    "df2, extension = fullpath.rsplit('.', 1)\n"
   ]
  },
  {
   "cell_type": "code",
   "execution_count": 109,
   "metadata": {},
   "outputs": [],
   "source": [
    "#path"
   ]
  },
  {
   "cell_type": "code",
   "execution_count": 110,
   "metadata": {},
   "outputs": [],
   "source": [
    "#filename"
   ]
  },
  {
   "cell_type": "code",
   "execution_count": 108,
   "metadata": {},
   "outputs": [],
   "source": [
    "#extension"
   ]
  },
  {
   "cell_type": "code",
   "execution_count": 123,
   "metadata": {},
   "outputs": [],
   "source": [
    "df['Dir'], df['Extension'] = df['Path'].str.split('.', 1).str"
   ]
  },
  {
   "cell_type": "code",
   "execution_count": 116,
   "metadata": {},
   "outputs": [
    {
     "data": {
      "text/html": [
       "<div>\n",
       "<style scoped>\n",
       "    .dataframe tbody tr th:only-of-type {\n",
       "        vertical-align: middle;\n",
       "    }\n",
       "\n",
       "    .dataframe tbody tr th {\n",
       "        vertical-align: top;\n",
       "    }\n",
       "\n",
       "    .dataframe thead th {\n",
       "        text-align: right;\n",
       "    }\n",
       "</style>\n",
       "<table border=\"1\" class=\"dataframe\">\n",
       "  <thead>\n",
       "    <tr style=\"text-align: right;\">\n",
       "      <th></th>\n",
       "      <th>Path</th>\n",
       "      <th>Path_Length</th>\n",
       "      <th>depth</th>\n",
       "      <th>probable_file</th>\n",
       "      <th>Dir</th>\n",
       "      <th>Extension</th>\n",
       "      <th>Drive</th>\n",
       "      <th>Folders</th>\n",
       "    </tr>\n",
       "  </thead>\n",
       "  <tbody>\n",
       "    <tr>\n",
       "      <th>0</th>\n",
       "      <td>G:\\IS\\IS - Shortcut.lnk</td>\n",
       "      <td>23</td>\n",
       "      <td>2</td>\n",
       "      <td>1</td>\n",
       "      <td>G:\\IS\\IS - Shortcut</td>\n",
       "      <td>lnk</td>\n",
       "      <td>G</td>\n",
       "      <td>IS\\IS - Shortcut</td>\n",
       "    </tr>\n",
       "    <tr>\n",
       "      <th>1</th>\n",
       "      <td>G:\\IS\\Plan_Services</td>\n",
       "      <td>19</td>\n",
       "      <td>2</td>\n",
       "      <td>0</td>\n",
       "      <td>G:\\IS\\Plan_Services</td>\n",
       "      <td>NaN</td>\n",
       "      <td>G</td>\n",
       "      <td>IS\\Plan_Services</td>\n",
       "    </tr>\n",
       "    <tr>\n",
       "      <th>2</th>\n",
       "      <td>G:\\IS\\Records - Shortcut.lnk</td>\n",
       "      <td>28</td>\n",
       "      <td>2</td>\n",
       "      <td>1</td>\n",
       "      <td>G:\\IS\\Records - Shortcut</td>\n",
       "      <td>lnk</td>\n",
       "      <td>G</td>\n",
       "      <td>IS\\Records - Shortcut</td>\n",
       "    </tr>\n",
       "    <tr>\n",
       "      <th>3</th>\n",
       "      <td>G:\\IS\\Records</td>\n",
       "      <td>13</td>\n",
       "      <td>2</td>\n",
       "      <td>0</td>\n",
       "      <td>G:\\IS\\Records</td>\n",
       "      <td>NaN</td>\n",
       "      <td>G</td>\n",
       "      <td>IS\\Records</td>\n",
       "    </tr>\n",
       "    <tr>\n",
       "      <th>4</th>\n",
       "      <td>G:\\IS\\(C) SYSTEM - Shortcut.lnk</td>\n",
       "      <td>31</td>\n",
       "      <td>2</td>\n",
       "      <td>1</td>\n",
       "      <td>G:\\IS\\(C) SYSTEM - Shortcut</td>\n",
       "      <td>lnk</td>\n",
       "      <td>G</td>\n",
       "      <td>IS\\(C) SYSTEM - Shortcut</td>\n",
       "    </tr>\n",
       "  </tbody>\n",
       "</table>\n",
       "</div>"
      ],
      "text/plain": [
       "                              Path  Path_Length  depth  probable_file  \\\n",
       "0          G:\\IS\\IS - Shortcut.lnk           23      2              1   \n",
       "1              G:\\IS\\Plan_Services           19      2              0   \n",
       "2     G:\\IS\\Records - Shortcut.lnk           28      2              1   \n",
       "3                    G:\\IS\\Records           13      2              0   \n",
       "4  G:\\IS\\(C) SYSTEM - Shortcut.lnk           31      2              1   \n",
       "\n",
       "                           Dir Extension Drive                   Folders  \n",
       "0          G:\\IS\\IS - Shortcut       lnk     G          IS\\IS - Shortcut  \n",
       "1          G:\\IS\\Plan_Services       NaN     G          IS\\Plan_Services  \n",
       "2     G:\\IS\\Records - Shortcut       lnk     G     IS\\Records - Shortcut  \n",
       "3                G:\\IS\\Records       NaN     G                IS\\Records  \n",
       "4  G:\\IS\\(C) SYSTEM - Shortcut       lnk     G  IS\\(C) SYSTEM - Shortcut  "
      ]
     },
     "execution_count": 116,
     "metadata": {},
     "output_type": "execute_result"
    }
   ],
   "source": [
    "df.head()"
   ]
  },
  {
   "cell_type": "code",
   "execution_count": 115,
   "metadata": {},
   "outputs": [],
   "source": [
    "df['Drive'], df['Folders'] = df['Dir'].str.split(r':\\\\', 1).str"
   ]
  },
  {
   "cell_type": "code",
   "execution_count": 127,
   "metadata": {},
   "outputs": [],
   "source": [
    "import numpy as np\n",
    "#random\n",
    "no_rows = 100\n",
    "df_ran = df.loc[np.random.choice(df.index, no_rows)]"
   ]
  },
  {
   "cell_type": "code",
   "execution_count": 124,
   "metadata": {},
   "outputs": [],
   "source": [
    "df['Extension'] = df['Extension'].str.lower()"
   ]
  },
  {
   "cell_type": "code",
   "execution_count": 133,
   "metadata": {},
   "outputs": [],
   "source": [
    "df['text_new2'] = df['Path'].str.split(r'\\\\').str[-1]"
   ]
  },
  {
   "cell_type": "code",
   "execution_count": 1,
   "metadata": {},
   "outputs": [
    {
     "ename": "NameError",
     "evalue": "name 'df_ran' is not defined",
     "output_type": "error",
     "traceback": [
      "\u001b[1;31m---------------------------------------------------------------------------\u001b[0m",
      "\u001b[1;31mNameError\u001b[0m                                 Traceback (most recent call last)",
      "\u001b[1;32m<ipython-input-1-6daad73d897a>\u001b[0m in \u001b[0;36m<module>\u001b[1;34m()\u001b[0m\n\u001b[1;32m----> 1\u001b[1;33m \u001b[0mdf_ran\u001b[0m\u001b[1;33m\u001b[0m\u001b[1;33m\u001b[0m\u001b[0m\n\u001b[0m",
      "\u001b[1;31mNameError\u001b[0m: name 'df_ran' is not defined"
     ]
    }
   ],
   "source": [
    "df_ran"
   ]
  },
  {
   "cell_type": "code",
   "execution_count": null,
   "metadata": {},
   "outputs": [],
   "source": []
  }
 ],
 "metadata": {
  "kernelspec": {
   "display_name": "Python 3",
   "language": "python",
   "name": "python3"
  },
  "language_info": {
   "codemirror_mode": {
    "name": "ipython",
    "version": 3
   },
   "file_extension": ".py",
   "mimetype": "text/x-python",
   "name": "python",
   "nbconvert_exporter": "python",
   "pygments_lexer": "ipython3",
   "version": "3.7.3"
  },
  "toc": {
   "base_numbering": 1,
   "nav_menu": {},
   "number_sections": true,
   "sideBar": true,
   "skip_h1_title": false,
   "title_cell": "Table of Contents",
   "title_sidebar": "Contents",
   "toc_cell": true,
   "toc_position": {},
   "toc_section_display": true,
   "toc_window_display": true
  }
 },
 "nbformat": 4,
 "nbformat_minor": 2
}
