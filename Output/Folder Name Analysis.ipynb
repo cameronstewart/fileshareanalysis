{
 "cells": [
  {
   "cell_type": "markdown",
   "metadata": {
    "toc": true
   },
   "source": [
    "<h1>Table of Contents<span class=\"tocSkip\"></span></h1>\n",
    "<div class=\"toc\"><ul class=\"toc-item\"><li><span><a href=\"#Directory-Name-Analysis\" data-toc-modified-id=\"Directory-Name-Analysis-1\"><span class=\"toc-item-num\">1&nbsp;&nbsp;</span>Directory Name Analysis</a></span></li><li><span><a href=\"#Activity-Analysis\" data-toc-modified-id=\"Activity-Analysis-2\"><span class=\"toc-item-num\">2&nbsp;&nbsp;</span>Activity Analysis</a></span></li></ul></div>"
   ]
  },
  {
   "cell_type": "code",
   "execution_count": 2,
   "metadata": {},
   "outputs": [],
   "source": [
    "import pandas as pd\n",
    "import matplotlib as plt"
   ]
  },
  {
   "cell_type": "code",
   "execution_count": 5,
   "metadata": {},
   "outputs": [],
   "source": [
    "#Import Syntax\n",
    "#pd.read_csv(file, sep='\\t', header=None, names=headers, parse_dates=dateCols)"
   ]
  },
  {
   "cell_type": "code",
   "execution_count": 6,
   "metadata": {},
   "outputs": [],
   "source": [
    "dateCols = ['CreationTime', 'LastAccessTime','LastWriteTime']\n",
    "df = pd.read_csv(\"H:\\G Drive IS Inventory 20180618.csv\", parse_dates=dateCols)"
   ]
  },
  {
   "cell_type": "code",
   "execution_count": 19,
   "metadata": {},
   "outputs": [
    {
     "data": {
      "text/html": [
       "<div>\n",
       "<style scoped>\n",
       "    .dataframe tbody tr th:only-of-type {\n",
       "        vertical-align: middle;\n",
       "    }\n",
       "\n",
       "    .dataframe tbody tr th {\n",
       "        vertical-align: top;\n",
       "    }\n",
       "\n",
       "    .dataframe thead th {\n",
       "        text-align: right;\n",
       "    }\n",
       "</style>\n",
       "<table border=\"1\" class=\"dataframe\">\n",
       "  <thead>\n",
       "    <tr style=\"text-align: right;\">\n",
       "      <th></th>\n",
       "      <th>Path</th>\n",
       "      <th>IsDIR</th>\n",
       "      <th>Directory</th>\n",
       "      <th>FileCount</th>\n",
       "      <th>Parent</th>\n",
       "      <th>Name</th>\n",
       "      <th>CreationTime</th>\n",
       "      <th>LastAccessTime</th>\n",
       "      <th>LastWriteTime</th>\n",
       "      <th>Extension</th>\n",
       "      <th>BaseName</th>\n",
       "      <th>B</th>\n",
       "      <th>depth</th>\n",
       "    </tr>\n",
       "  </thead>\n",
       "  <tbody>\n",
       "    <tr>\n",
       "      <th>0</th>\n",
       "      <td>G:\\IS\\Plan_Services</td>\n",
       "      <td>True</td>\n",
       "      <td>NaN</td>\n",
       "      <td>124457</td>\n",
       "      <td>IS</td>\n",
       "      <td>Plan_Services</td>\n",
       "      <td>2006-01-06 09:48:26</td>\n",
       "      <td>2018-06-19 09:16:51</td>\n",
       "      <td>2018-05-17 09:47:18</td>\n",
       "      <td>NaN</td>\n",
       "      <td>Plan_Services</td>\n",
       "      <td>1</td>\n",
       "      <td>2</td>\n",
       "    </tr>\n",
       "    <tr>\n",
       "      <th>1</th>\n",
       "      <td>G:\\IS\\Records</td>\n",
       "      <td>True</td>\n",
       "      <td>NaN</td>\n",
       "      <td>472542</td>\n",
       "      <td>IS</td>\n",
       "      <td>Records</td>\n",
       "      <td>2012-07-16 11:44:30</td>\n",
       "      <td>2018-06-19 09:16:52</td>\n",
       "      <td>2018-06-18 16:32:47</td>\n",
       "      <td>NaN</td>\n",
       "      <td>Records</td>\n",
       "      <td>1</td>\n",
       "      <td>2</td>\n",
       "    </tr>\n",
       "    <tr>\n",
       "      <th>2</th>\n",
       "      <td>G:\\IS\\Information Governance</td>\n",
       "      <td>True</td>\n",
       "      <td>NaN</td>\n",
       "      <td>6078</td>\n",
       "      <td>IS</td>\n",
       "      <td>Information Governance</td>\n",
       "      <td>2016-02-02 12:19:57</td>\n",
       "      <td>2018-06-19 09:06:01</td>\n",
       "      <td>2018-06-15 14:01:08</td>\n",
       "      <td>NaN</td>\n",
       "      <td>Information Governance</td>\n",
       "      <td>1</td>\n",
       "      <td>2</td>\n",
       "    </tr>\n",
       "    <tr>\n",
       "      <th>3</th>\n",
       "      <td>G:\\IS\\Administration</td>\n",
       "      <td>True</td>\n",
       "      <td>NaN</td>\n",
       "      <td>3485</td>\n",
       "      <td>IS</td>\n",
       "      <td>Administration</td>\n",
       "      <td>2016-01-12 12:10:43</td>\n",
       "      <td>2018-06-18 20:56:52</td>\n",
       "      <td>2018-03-27 10:53:01</td>\n",
       "      <td>NaN</td>\n",
       "      <td>Administration</td>\n",
       "      <td>1</td>\n",
       "      <td>2</td>\n",
       "    </tr>\n",
       "    <tr>\n",
       "      <th>4</th>\n",
       "      <td>G:\\IS\\Service Delivery</td>\n",
       "      <td>True</td>\n",
       "      <td>NaN</td>\n",
       "      <td>3060</td>\n",
       "      <td>IS</td>\n",
       "      <td>Service Delivery</td>\n",
       "      <td>2016-07-28 09:09:16</td>\n",
       "      <td>2018-06-18 20:57:19</td>\n",
       "      <td>2018-08-03 15:23:32</td>\n",
       "      <td>NaN</td>\n",
       "      <td>Service Delivery</td>\n",
       "      <td>1</td>\n",
       "      <td>2</td>\n",
       "    </tr>\n",
       "  </tbody>\n",
       "</table>\n",
       "</div>"
      ],
      "text/plain": [
       "                           Path  IsDIR  Directory  FileCount Parent  \\\n",
       "0           G:\\IS\\Plan_Services   True        NaN     124457     IS   \n",
       "1                 G:\\IS\\Records   True        NaN     472542     IS   \n",
       "2  G:\\IS\\Information Governance   True        NaN       6078     IS   \n",
       "3          G:\\IS\\Administration   True        NaN       3485     IS   \n",
       "4        G:\\IS\\Service Delivery   True        NaN       3060     IS   \n",
       "\n",
       "                     Name        CreationTime      LastAccessTime  \\\n",
       "0           Plan_Services 2006-01-06 09:48:26 2018-06-19 09:16:51   \n",
       "1                 Records 2012-07-16 11:44:30 2018-06-19 09:16:52   \n",
       "2  Information Governance 2016-02-02 12:19:57 2018-06-19 09:06:01   \n",
       "3          Administration 2016-01-12 12:10:43 2018-06-18 20:56:52   \n",
       "4        Service Delivery 2016-07-28 09:09:16 2018-06-18 20:57:19   \n",
       "\n",
       "        LastWriteTime Extension                BaseName  B  depth  \n",
       "0 2018-05-17 09:47:18       NaN           Plan_Services  1      2  \n",
       "1 2018-06-18 16:32:47       NaN                 Records  1      2  \n",
       "2 2018-06-15 14:01:08       NaN  Information Governance  1      2  \n",
       "3 2018-03-27 10:53:01       NaN          Administration  1      2  \n",
       "4 2018-08-03 15:23:32       NaN        Service Delivery  1      2  "
      ]
     },
     "execution_count": 19,
     "metadata": {},
     "output_type": "execute_result"
    }
   ],
   "source": [
    "df.head()"
   ]
  },
  {
   "cell_type": "code",
   "execution_count": 18,
   "metadata": {},
   "outputs": [],
   "source": [
    "df['depth'] = df['Path'].str.count(r'\\\\')"
   ]
  },
  {
   "cell_type": "code",
   "execution_count": 20,
   "metadata": {},
   "outputs": [
    {
     "data": {
      "text/plain": [
       "(20505, 13)"
      ]
     },
     "execution_count": 20,
     "metadata": {},
     "output_type": "execute_result"
    }
   ],
   "source": [
    "df.shape\n"
   ]
  },
  {
   "cell_type": "code",
   "execution_count": null,
   "metadata": {},
   "outputs": [],
   "source": [
    "df.dtypes\n"
   ]
  },
  {
   "cell_type": "markdown",
   "metadata": {},
   "source": [
    "# Directory Name Analysis\n"
   ]
  },
  {
   "cell_type": "markdown",
   "metadata": {},
   "source": [
    "Options with no new data creation"
   ]
  },
  {
   "cell_type": "code",
   "execution_count": 42,
   "metadata": {},
   "outputs": [
    {
     "data": {
      "text/plain": [
       "<matplotlib.axes._subplots.AxesSubplot at 0xffed908>"
      ]
     },
     "execution_count": 42,
     "metadata": {},
     "output_type": "execute_result"
    },
    {
     "data": {
      "image/png": "[encoded data removed]",
      "text/plain": [
       "<matplotlib.figure.Figure at 0xffbadd8>"
      ]
     },
     "metadata": {},
     "output_type": "display_data"
    }
   ],
   "source": [
    "df.groupby(df[\"CreationTime\"].dt.month).count().plot(kind=\"bar\")"
   ]
  },
  {
   "cell_type": "code",
   "execution_count": 32,
   "metadata": {},
   "outputs": [
    {
     "data": {
      "text/plain": [
       "<matplotlib.axes._subplots.AxesSubplot at 0xdad1cf8>"
      ]
     },
     "execution_count": 32,
     "metadata": {},
     "output_type": "execute_result"
    },
    {
     "data": {
      "image/png": "[encoded data removed]",
      "text/plain": [
       "<matplotlib.figure.Figure at 0xdfdb588>"
      ]
     },
     "metadata": {},
     "output_type": "display_data"
    }
   ],
   "source": [
    "df.groupby(df[\"CreationTime\"].dt.year).count().plot(kind=\"bar\")"
   ]
  },
  {
   "cell_type": "code",
   "execution_count": 29,
   "metadata": {},
   "outputs": [
    {
     "data": {
      "text/plain": [
       "<matplotlib.axes._subplots.AxesSubplot at 0xcc24eb8>"
      ]
     },
     "execution_count": 29,
     "metadata": {},
     "output_type": "execute_result"
    },
    {
     "data": {
      "image/png": "[encoded data removed]",
      "text/plain": [
       "<matplotlib.figure.Figure at 0xcbe6b38>"
      ]
     },
     "metadata": {},
     "output_type": "display_data"
    }
   ],
   "source": [
    "df.groupby([df[\"CreationTime\"].dt.year, df[\"CreationTime\"].dt.month]).count().plot(kind=\"bar\")"
   ]
  },
  {
   "cell_type": "code",
   "execution_count": 38,
   "metadata": {},
   "outputs": [
    {
     "ename": "TypeError",
     "evalue": "'module' object is not callable",
     "output_type": "error",
     "traceback": [
      "\u001b[1;31m---------------------------------------------------------------------------\u001b[0m",
      "\u001b[1;31mTypeError\u001b[0m                                 Traceback (most recent call last)",
      "\u001b[1;32m<ipython-input-38-5f50419696e6>\u001b[0m in \u001b[0;36m<module>\u001b[1;34m()\u001b[0m\n\u001b[1;32m----> 1\u001b[1;33m \u001b[0mplot\u001b[0m\u001b[1;33m(\u001b[0m\u001b[0mdf\u001b[0m\u001b[1;33m[\u001b[0m\u001b[1;34m\"CreationTime\"\u001b[0m\u001b[1;33m]\u001b[0m\u001b[1;33m,\u001b[0m \u001b[0mdf\u001b[0m\u001b[1;33m[\u001b[0m\u001b[1;34m\"LastWriteTime\"\u001b[0m\u001b[1;33m]\u001b[0m\u001b[1;33m,\u001b[0m \u001b[0mcolor\u001b[0m\u001b[1;33m=\u001b[0m\u001b[1;34m'black'\u001b[0m\u001b[1;33m)\u001b[0m\u001b[1;33m;\u001b[0m\u001b[1;33m\u001b[0m\u001b[0m\n\u001b[0m",
      "\u001b[1;31mTypeError\u001b[0m: 'module' object is not callable"
     ]
    }
   ],
   "source": [
    "plot(df[\"CreationTime\"], df[\"LastWriteTime\"], color='black');"
   ]
  },
  {
   "cell_type": "code",
   "execution_count": 47,
   "metadata": {},
   "outputs": [
    {
     "ename": "TypeError",
     "evalue": "cut() missing 1 required positional argument: 'bins'",
     "output_type": "error",
     "traceback": [
      "\u001b[1;31m---------------------------------------------------------------------------\u001b[0m",
      "\u001b[1;31mTypeError\u001b[0m                                 Traceback (most recent call last)",
      "\u001b[1;32m<ipython-input-47-ffcd6c97eb07>\u001b[0m in \u001b[0;36m<module>\u001b[1;34m()\u001b[0m\n\u001b[1;32m----> 1\u001b[1;33m \u001b[0mdf\u001b[0m\u001b[1;33m.\u001b[0m\u001b[0mgroupby\u001b[0m\u001b[1;33m(\u001b[0m\u001b[1;33m(\u001b[0m\u001b[0mpd\u001b[0m\u001b[1;33m.\u001b[0m\u001b[0mcut\u001b[0m\u001b[1;33m(\u001b[0m\u001b[0mdf\u001b[0m\u001b[1;33m[\u001b[0m\u001b[1;34m\"FileCount\"\u001b[0m\u001b[1;33m]\u001b[0m\u001b[1;33m)\u001b[0m\u001b[1;33m,\u001b[0m\u001b[1;36m10\u001b[0m\u001b[1;33m,\u001b[0m\u001b[1;36m1\u001b[0m\u001b[1;33m)\u001b[0m\u001b[1;33m)\u001b[0m\u001b[1;33m.\u001b[0m\u001b[0mcount\u001b[0m\u001b[1;33m(\u001b[0m\u001b[1;33m)\u001b[0m\u001b[1;33m.\u001b[0m\u001b[0mplot\u001b[0m\u001b[1;33m(\u001b[0m\u001b[0mkind\u001b[0m\u001b[1;33m=\u001b[0m\u001b[1;34m\"bar\"\u001b[0m\u001b[1;33m)\u001b[0m\u001b[1;33m\u001b[0m\u001b[0m\n\u001b[0m",
      "\u001b[1;31mTypeError\u001b[0m: cut() missing 1 required positional argument: 'bins'"
     ]
    }
   ],
   "source": [
    "df.groupby(df[\"FileCount\"]).count().plot(kind=\"bar\")"
   ]
  },
  {
   "cell_type": "markdown",
   "metadata": {},
   "source": [
    "# Activity Analysis"
   ]
  },
  {
   "cell_type": "code",
   "execution_count": 34,
   "metadata": {},
   "outputs": [],
   "source": [
    "df_activity = 'Creation',df['CreationTime']"
   ]
  },
  {
   "cell_type": "code",
   "execution_count": 35,
   "metadata": {},
   "outputs": [
    {
     "data": {
      "text/plain": [
       "('Creation', 0       2006-01-06 09:48:26\n",
       " 1       2012-07-16 11:44:30\n",
       " 2       2016-02-02 12:19:57\n",
       " 3       2016-01-12 12:10:43\n",
       " 4       2016-07-28 09:09:16\n",
       " 5       2018-11-01 14:41:08\n",
       " 6       2016-10-06 15:42:56\n",
       " 7       2017-07-17 11:18:09\n",
       " 8       2017-03-05 09:46:43\n",
       " 9       2018-02-22 13:27:55\n",
       " 10      2016-08-06 15:47:53\n",
       " 11      2017-01-13 13:17:47\n",
       " 12      2018-01-02 10:05:45\n",
       " 13      2018-01-02 13:52:17\n",
       " 14      2009-09-29 10:34:04\n",
       " 15      2006-04-12 17:55:40\n",
       " 16      2018-12-02 09:36:32\n",
       " 17      2009-05-02 16:07:52\n",
       " 18      2011-07-29 17:07:50\n",
       " 19      2016-09-15 16:48:18\n",
       " 20      2000-06-27 18:21:30\n",
       " 21      2003-02-13 12:29:10\n",
       " 22      2011-01-13 13:55:02\n",
       " 23      2017-09-25 10:22:25\n",
       " 24      2017-09-26 13:19:12\n",
       " 25      2017-05-24 13:00:49\n",
       " 26      2007-10-31 15:49:54\n",
       " 27      2014-04-28 16:00:42\n",
       " 28      2016-09-19 10:29:59\n",
       " 29      2006-01-06 16:03:46\n",
       "                 ...        \n",
       " 20475   2000-03-07 07:53:14\n",
       " 20476   2000-03-07 07:53:08\n",
       " 20477   2000-03-07 07:53:08\n",
       " 20478   2000-03-07 07:53:14\n",
       " 20479   2000-03-07 07:53:10\n",
       " 20480   2000-03-07 07:53:10\n",
       " 20481   2000-03-07 07:53:14\n",
       " 20482   2007-04-12 17:41:32\n",
       " 20483   2007-04-12 17:41:32\n",
       " 20484   2007-04-12 17:41:12\n",
       " 20485   2007-04-12 17:41:46\n",
       " 20486   2007-04-12 17:41:30\n",
       " 20487   2000-07-20 09:36:54\n",
       " 20488   2003-02-18 11:25:58\n",
       " 20489   2000-07-20 09:36:54\n",
       " 20490   2000-07-20 09:36:58\n",
       " 20491   2000-07-20 09:37:02\n",
       " 20492   2000-07-20 09:37:06\n",
       " 20493   2000-07-20 09:37:08\n",
       " 20494   2000-07-20 09:37:12\n",
       " 20495   2000-07-20 09:37:16\n",
       " 20496   2000-07-20 09:37:20\n",
       " 20497   2000-07-20 09:37:22\n",
       " 20498   2003-02-18 11:26:32\n",
       " 20499   2017-01-23 15:15:02\n",
       " 20500   2017-01-23 15:15:08\n",
       " 20501   2017-10-02 17:47:50\n",
       " 20502   2017-01-23 15:15:08\n",
       " 20503   2017-01-23 15:15:08\n",
       " 20504   2017-01-23 15:15:08\n",
       " Name: CreationTime, Length: 20505, dtype: datetime64[ns])"
      ]
     },
     "execution_count": 35,
     "metadata": {},
     "output_type": "execute_result"
    }
   ],
   "source": [
    "df_activity"
   ]
  },
  {
   "cell_type": "code",
   "execution_count": null,
   "metadata": {},
   "outputs": [],
   "source": []
  }
 ],
 "metadata": {
  "kernelspec": {
   "display_name": "Python 3",
   "language": "python",
   "name": "python3"
  },
  "language_info": {
   "codemirror_mode": {
    "name": "ipython",
    "version": 3
   },
   "file_extension": ".py",
   "mimetype": "text/x-python",
   "name": "python",
   "nbconvert_exporter": "python",
   "pygments_lexer": "ipython3",
   "version": "3.7.3"
  },
  "toc": {
   "base_numbering": 1,
   "nav_menu": {},
   "number_sections": true,
   "sideBar": true,
   "skip_h1_title": false,
   "title_cell": "Table of Contents",
   "title_sidebar": "Contents",
   "toc_cell": true,
   "toc_position": {},
   "toc_section_display": true,
   "toc_window_display": true
  }
 },
 "nbformat": 4,
 "nbformat_minor": 2
}
